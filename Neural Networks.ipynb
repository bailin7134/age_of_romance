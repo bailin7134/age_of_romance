{
 "cells": [
  {
   "cell_type": "code",
   "execution_count": null,
   "metadata": {
    "collapsed": false,
    "deletable": true,
    "editable": true
   },
   "outputs": [
    {
     "data": {
      "text/plain": [
       "Starting training on data in directory /home/ec2-user/frames/mini_frames_test/\t\n"
      ]
     },
     "execution_count": 1,
     "metadata": {},
     "output_type": "execute_result"
    },
    {
     "data": {
      "text/plain": [
       "Frame size: 3 x 189 x 320\t\n",
       "Testing network size compatibility...\t\n"
      ]
     },
     "execution_count": 1,
     "metadata": {},
     "output_type": "execute_result"
    },
    {
     "data": {
      "text/plain": [
       "Neural network test success!\t\n"
      ]
     },
     "execution_count": 1,
     "metadata": {},
     "output_type": "execute_result"
    },
    {
     "data": {
      "text/plain": [
       "loading frame: 1000"
      ]
     },
     "execution_count": 1,
     "metadata": {},
     "output_type": "execute_result"
    },
    {
     "data": {
      "text/plain": [
       "\b \b\b \b\b \b\b \b\b \b\b \b\b \b\b \b\b \b\b \b\b \b\b \b\b \b\b \b\b \b\b \b\b \b\b \b\b \bloading frame: 2000"
      ]
     },
     "execution_count": 1,
     "metadata": {},
     "output_type": "execute_result"
    },
    {
     "data": {
      "text/plain": [
       "\b \b\b \b\b \b\b \b\b \b\b \b\b \b\b \b\b \b\b \b\b \b\b \b\b \b\b \b\b \b\b \b\b \b\b \b\b \bloading frame: 3000Number of frames: 3198\t\n"
      ]
     },
     "execution_count": 1,
     "metadata": {},
     "output_type": "execute_result"
    },
    {
     "data": {
      "text/plain": [
       "\n",
       "[1/100] Error rate: 249.39865887165\tRemaining time: 00:39:36\t\n"
      ]
     },
     "execution_count": 1,
     "metadata": {},
     "output_type": "execute_result"
    },
    {
     "data": {
      "text/plain": [
       "\n",
       "[2/100] Error rate: 247.32793886662\tRemaining time: 00:32:40\t\n"
      ]
     },
     "execution_count": 1,
     "metadata": {},
     "output_type": "execute_result"
    },
    {
     "data": {
      "text/plain": [
       "\n",
       "[3/100] Error rate: 286.2384335041\tRemaining time: 00:30:43\t\n"
      ]
     },
     "execution_count": 1,
     "metadata": {},
     "output_type": "execute_result"
    },
    {
     "data": {
      "text/plain": [
       "\n",
       "[4/100] Error rate: 250.53119394779\tRemaining time: 00:29:12\t\n"
      ]
     },
     "execution_count": 1,
     "metadata": {},
     "output_type": "execute_result"
    },
    {
     "data": {
      "text/plain": [
       "\n",
       "[5/100] Error rate: 273.99249584675\tRemaining time: 00:28:11\t\n"
      ]
     },
     "execution_count": 1,
     "metadata": {},
     "output_type": "execute_result"
    },
    {
     "data": {
      "text/plain": [
       "\n",
       "[6/100] Error rate: 264.02933943272\tRemaining time: 00:27:25\t\n"
      ]
     },
     "execution_count": 1,
     "metadata": {},
     "output_type": "execute_result"
    },
    {
     "data": {
      "text/plain": [
       "\n",
       "[7/100] Error rate: 262.98214132786\tRemaining time: 00:26:47\t\n"
      ]
     },
     "execution_count": 1,
     "metadata": {},
     "output_type": "execute_result"
    },
    {
     "data": {
      "text/plain": [
       "\n",
       "[8/100] Error rate: 261.90006022453\tRemaining time: 00:26:15\t\n"
      ]
     },
     "execution_count": 1,
     "metadata": {},
     "output_type": "execute_result"
    },
    {
     "data": {
      "text/plain": [
       "\n",
       "[9/100] Error rate: 247.82243030071\tRemaining time: 00:25:47\t\n"
      ]
     },
     "execution_count": 1,
     "metadata": {},
     "output_type": "execute_result"
    },
    {
     "data": {
      "text/plain": [
       "\n",
       "[10/100] Error rate: 260.32595984936\tRemaining time: 00:25:21\t\n"
      ]
     },
     "execution_count": 1,
     "metadata": {},
     "output_type": "execute_result"
    },
    {
     "data": {
      "text/plain": [
       "\n",
       "[11/100] Error rate: 265.89821887016\tRemaining time: 00:25:04\t\n"
      ]
     },
     "execution_count": 1,
     "metadata": {},
     "output_type": "execute_result"
    },
    {
     "data": {
      "text/plain": [
       "\n",
       "[12/100] Error rate: 277.39465913773\tRemaining time: 00:24:48\t\n"
      ]
     },
     "execution_count": 1,
     "metadata": {},
     "output_type": "execute_result"
    },
    {
     "data": {
      "text/plain": [
       "\n",
       "[13/100] Error rate: 250.441949296\tRemaining time: 00:24:25\t\n"
      ]
     },
     "execution_count": 1,
     "metadata": {},
     "output_type": "execute_result"
    },
    {
     "data": {
      "text/plain": [
       "\n",
       "[14/100] Error rate: 252.92770423889\tRemaining time: 00:24:03\t\n"
      ]
     },
     "execution_count": 1,
     "metadata": {},
     "output_type": "execute_result"
    }
   ],
   "source": [
    "require 'age_of_romance'\n",
    "\n",
    "train_frame_dir = \"/home/ec2-user/frames/mini_frames_test/\"\n",
    "test_frame_dir = \"/home/ec2-user/frames/mini_frames_test/\"\n",
    "\n",
    "local params = {\n",
    "    log_level = 8,\n",
    "    minibatch_size = 10,\n",
    "    epochs = 100,\n",
    "    max_frames_per_directory = nil,\n",
    "    learningRate = 0.01,\n",
    "    learningRateDecay = 0.001,\n",
    "    weightDecay = 0,\n",
    "    dampening = 0,\n",
    "    nesterov = false,\n",
    "    momentum = 0,\n",
    "}\n",
    "\n",
    "local vgg = nn.Sequential()\n",
    "vgg:add(nn.SpatialAveragePooling(9, 10, 5, 6))\n",
    "vgg:add(nn.SpatialConvolution(3, 16, 3, 3, 1, 1, 1, 1))\n",
    "vgg:add(nn.ReLU(true))\n",
    "vgg:add(nn.SpatialAveragePooling(3, 3, 3, 3))\n",
    "vgg:add(nn.SpatialConvolution(16, 32, 3, 3, 1, 1, 1, 1))\n",
    "vgg:add(nn.ReLU(true))\n",
    "vgg:add(nn.SpatialAveragePooling(6, 3, 6, 3))\n",
    "vgg:add(nn.SpatialConvolution(32, 64, 3, 3, 1, 1, 1, 1))\n",
    "vgg:add(nn.ReLU(true))\n",
    "vgg:add(nn.SpatialAveragePooling(2, 2, 2, 2))\n",
    "\n",
    "vgg:add(nn.View(64))\n",
    "vgg:add(nn.Linear(64, 16))\n",
    "vgg:add(nn.Linear(16, 1))\n",
    "vgg = vgg:cuda()\n",
    "\n",
    "local criterion = nn.MSECriterion();\n",
    "criterion = criterion:cuda()\n",
    "\n",
    "train_data(vgg, criterion, params, train_frame_dir)\n",
    "test_data(vgg, criterion, params, test_frame_dir)\n"
   ]
  }
 ],
 "metadata": {
  "kernelspec": {
   "display_name": "iTorch",
   "language": "lua",
   "name": "itorch"
  },
  "language_info": {
   "name": "lua",
   "version": "5.1"
  }
 },
 "nbformat": 4,
 "nbformat_minor": 2
}
